{
 "cells": [
  {
   "cell_type": "markdown",
   "id": "baa7f365",
   "metadata": {},
   "source": [
    "# 🌭Is Hotdog?🌭\n",
    "\n",
    "Based on the TV series Silicon Valley, I will create a fully tutorialized Convolutional Neural Network (CNN) that can determine whether or not there is a hotdog in the image entered.  "
   ]
  },
  {
   "cell_type": "markdown",
   "id": "cfa09521",
   "metadata": {},
   "source": [
    "#### 🔹 General Importations\n",
    "\n",
    "we'll start with importing basic tools and functions for our task."
   ]
  },
  {
   "cell_type": "code",
   "execution_count": 1,
   "id": "315a5af6",
   "metadata": {},
   "outputs": [
    {
     "name": "stdout",
     "output_type": "stream",
     "text": [
      "2.7.0-dev20210922\n"
     ]
    }
   ],
   "source": [
    "import numpy as np\n",
    "import matplotlib.pyplot as plt\n",
    "from sklearn import utils\n",
    "\n",
    "import os, PIL\n",
    "from glob import glob\n",
    "\n",
    "import tensorflow as tf\n",
    "\n",
    "print(tf.__version__)"
   ]
  },
  {
   "cell_type": "markdown",
   "id": "c034c38b",
   "metadata": {},
   "source": [
    "#### 🔹 Deep Learning Functional Initializations\n",
    "\n",
    "As good practice, let's initialize the specific tools we'll be using from TensorFlow to make things a little more readable moving forward."
   ]
  },
  {
   "cell_type": "code",
   "execution_count": 2,
   "id": "61d0249f",
   "metadata": {},
   "outputs": [],
   "source": [
    "\"\"\" Sequential Model Architecture \"\"\"\n",
    "Sequential = tf.keras.models.Sequential\n",
    "\n",
    "\"\"\" Data Preprocessing Functions \"\"\"\n",
    "Resizing = tf.keras.layers.Resizing\n",
    "Rescaling = tf.keras.layers.Rescaling\n",
    "\n",
    "\"\"\" Data Augmentation Functions \"\"\"\n",
    "RandomFlip = tf.keras.layers.RandomFlip\n",
    "RandomRotation = tf.keras.layers.RandomRotation\n",
    "RandomZoom = tf.keras.layers.RandomZoom\n",
    "\n",
    "\"\"\" Artificial Neural Network Layer Inventory \"\"\"\n",
    "Dense = tf.keras.layers.Dense\n",
    "Dropout = tf.keras.layers.Dropout\n",
    "\n",
    "\"\"\" Convolutional Neural Network Layer Inventory \"\"\"\n",
    "Conv2D = tf.keras.layers.Conv2D\n",
    "MaxPool2D = tf.keras.layers.MaxPooling2D\n",
    "Flatten = tf.keras.layers.Flatten\n",
    "\n",
    "\"\"\" Residual Network Layer Inventory \"\"\"\n",
    "ResNet50 = tf.keras.applications.resnet50.ResNet50\n",
    "\n",
    "\"\"\" Function to Load Images from Target Folder \"\"\"\n",
    "image_dataset_from_directory = tf.keras.preprocessing.image_dataset_from_directory"
   ]
  },
  {
   "cell_type": "markdown",
   "id": "ffc6f849",
   "metadata": {},
   "source": [
    "#### 🔹 Data Loading and Preprocessing"
   ]
  },
  {
   "cell_type": "code",
   "execution_count": 3,
   "id": "9f3a8c95",
   "metadata": {
    "scrolled": true
   },
   "outputs": [
    {
     "name": "stdout",
     "output_type": "stream",
     "text": [
      "Number of hotdog image samples: 499\n",
      "Number of not-hotdog image samples: 499\n"
     ]
    }
   ],
   "source": [
    "# Use the `glob.glob` function to show how many images are in each folder\n",
    "DATA_DIRECTORY = \"../dataset/\"\n",
    "HOT_DOG_IMAGES_PATTERN = f\"{DATA_DIRECTORY}/hot_dog/*\"\n",
    "NOT_HOT_DOG_IMAGES_PATTERN = f\"{DATA_DIRECTORY}/not_hot_dog/*\"\n",
    "\n",
    "print(f\"Number of hotdog image samples: {len(glob(HOT_DOG_IMAGES_PATTERN))}\")\n",
    "print(f\"Number of not-hotdog image samples: {len(glob(NOT_HOT_DOG_IMAGES_PATTERN))}\")"
   ]
  },
  {
   "cell_type": "code",
   "execution_count": 4,
   "id": "37c08321",
   "metadata": {},
   "outputs": [],
   "source": [
    "batch_size = 32\n",
    "IMAGE_HEIGHT = IMAGE_WIDTH = 256"
   ]
  },
  {
   "cell_type": "code",
   "execution_count": 5,
   "id": "aca4bdb0",
   "metadata": {},
   "outputs": [
    {
     "name": "stdout",
     "output_type": "stream",
     "text": [
      "Found 998 files belonging to 2 classes.\n",
      "Using 799 files for training.\n"
     ]
    }
   ],
   "source": [
    "# needed to remove error caused by tf-nightly & image_dataset_from_directory\n",
    "os.environ['TF_CPP_MIN_LOG_LEVEL'] = '2'\n",
    "\n",
    "train = tf.keras.utils.image_dataset_from_directory(\n",
    "    directory=DATA_DIRECTORY,\n",
    "    validation_split=0.2,\n",
    "    subset=\"training\",\n",
    "    seed=42,\n",
    "    image_size=(IMAGE_HEIGHT, IMAGE_WIDTH),\n",
    "    batch_size=batch_size\n",
    ")"
   ]
  },
  {
   "cell_type": "code",
   "execution_count": 6,
   "id": "1b4ce2c0",
   "metadata": {},
   "outputs": [],
   "source": [
    "class_names = train.class_names"
   ]
  },
  {
   "cell_type": "code",
   "execution_count": 7,
   "id": "508c3066",
   "metadata": {},
   "outputs": [
    {
     "name": "stdout",
     "output_type": "stream",
     "text": [
      "Found 998 files belonging to 2 classes.\n",
      "Using 199 files for validation.\n"
     ]
    }
   ],
   "source": [
    "validation = image_dataset_from_directory(\n",
    "    directory=DATA_DIRECTORY,\n",
    "    validation_split=0.2,\n",
    "    subset=\"validation\",\n",
    "    seed=42,\n",
    "    image_size=(IMAGE_HEIGHT, IMAGE_WIDTH),\n",
    "    batch_size=batch_size\n",
    ")"
   ]
  },
  {
   "cell_type": "markdown",
   "id": "e5506fc7",
   "metadata": {},
   "source": [
    "#### 🔹 Pre-Optimize Image File Ingestion\n",
    "\n",
    "This is an accessory step to optimize image data ingestion at the cost of slightly higher memory usage. No modifications are required for this function. "
   ]
  },
  {
   "cell_type": "code",
   "execution_count": 8,
   "id": "ab7f294d",
   "metadata": {},
   "outputs": [],
   "source": [
    "def configure_performant_datasets(dataset, shuffling=None):\n",
    "    \"\"\" \n",
    "    Custom function to prefetch and cache stored elements\n",
    "    of retrieved image data to boost latency and performance\n",
    "    at the cost of higher memory usage. \n",
    "    \"\"\"\n",
    "    AUTOTUNE = tf.data.AUTOTUNE\n",
    "    # Cache and prefetch elements of input data for boosted performance\n",
    "    if not shuffling:\n",
    "        return dataset.cache().prefetch(buffer_size=AUTOTUNE)\n",
    "    else:\n",
    "        return dataset.cache().shuffle(shuffling).prefetch(buffer_size=AUTOTUNE)"
   ]
  },
  {
   "cell_type": "code",
   "execution_count": 9,
   "id": "236beb1f",
   "metadata": {},
   "outputs": [],
   "source": [
    "train =         configure_performant_datasets(train, shuffling=1000)\n",
    "validation =    configure_performant_datasets(validation)"
   ]
  },
  {
   "cell_type": "markdown",
   "id": "5be24496",
   "metadata": {},
   "source": [
    "#### 🔹 Data Ingestion and Predictive Modeling"
   ]
  },
  {
   "cell_type": "code",
   "execution_count": 10,
   "id": "f6bf4a5e",
   "metadata": {},
   "outputs": [],
   "source": [
    "resizing_layer = Resizing(IMAGE_HEIGHT, IMAGE_WIDTH)\n",
    "normalization_layer = Rescaling(1./255, input_shape=(IMAGE_HEIGHT, IMAGE_WIDTH, 3))"
   ]
  },
  {
   "cell_type": "code",
   "execution_count": 11,
   "id": "495c5e81",
   "metadata": {},
   "outputs": [],
   "source": [
    "input_layer = tf.keras.Input(shape=(IMAGE_HEIGHT, IMAGE_WIDTH, 3))\n",
    "\n",
    "random_flipping_layer = RandomFlip(\"horizontal\", input_shape=(IMAGE_HEIGHT, IMAGE_WIDTH, 3))\n",
    "random_rotation_layer = RandomRotation(0.1)\n",
    "random_zooming_layer = RandomZoom(0.2)\n",
    "\n",
    "augmentation_layer = Sequential([random_flipping_layer, \n",
    "                                       random_rotation_layer, \n",
    "                                       random_zooming_layer])\n",
    "\n",
    "rescaling_layer = Rescaling(scale=1/127.5, offset=-1)\n",
    "\n",
    "first_convolutional_layer = Conv2D(16, \n",
    "                                   kernel_size=(3, 3), \n",
    "                                   activation=\"relu\")\n",
    "second_convolutional_layer = Conv2D(32,\n",
    "                                    kernel_size=(3, 3),\n",
    "                                    activation=\"relu\")\n",
    "third_convolutional_layer = Conv2D(64,\n",
    "                                   kernel_size=(3, 3),\n",
    "                                   activation=\"relu\")\n",
    "fourth_convolutional_layer = Conv2D(64,\n",
    "                                    kernel_size=(3, 3),\n",
    "                                    activation=\"relu\")\n",
    "fifth_convolutional_layer = Conv2D(64,\n",
    "                                    kernel_size=(3, 3),\n",
    "                                    activation=\"relu\")\n",
    "\n",
    "first_pooling_layer = MaxPool2D(pool_size=(2, 2))\n",
    "second_pooling_layer = MaxPool2D(pool_size=(2, 2))\n",
    "third_pooling_layer = MaxPool2D(pool_size=(2, 2))\n",
    "fourth_pooling_layer = MaxPool2D(pool_size=(2, 2))\n",
    "fifth_pooling_layer = MaxPool2D(pool_size=(2, 2))\n",
    "\n",
    "flattening_layer = Flatten()\n",
    "\n",
    "first_connective_layer = Dense(512, activation=\"relu\")\n",
    "output_connective_layer = Dense(1, activation='sigmoid')\n",
    "\n",
    "first_dropout_layer = Dropout(0.3)"
   ]
  },
  {
   "cell_type": "code",
   "execution_count": 12,
   "id": "f0c326c2",
   "metadata": {},
   "outputs": [
    {
     "name": "stdout",
     "output_type": "stream",
     "text": [
      "Model: \"sequential_1\"\n",
      "_________________________________________________________________\n",
      "Layer (type)                 Output Shape              Param #   \n",
      "=================================================================\n",
      "sequential (Sequential)      (None, 256, 256, 3)       0         \n",
      "_________________________________________________________________\n",
      "rescaling_1 (Rescaling)      (None, 256, 256, 3)       0         \n",
      "_________________________________________________________________\n",
      "conv2d (Conv2D)              (None, 254, 254, 16)      448       \n",
      "_________________________________________________________________\n",
      "max_pooling2d (MaxPooling2D  (None, 127, 127, 16)      0         \n",
      ")                                                                \n",
      "_________________________________________________________________\n",
      "conv2d_1 (Conv2D)            (None, 125, 125, 32)      4640      \n",
      "_________________________________________________________________\n",
      "max_pooling2d_1 (MaxPooling  (None, 62, 62, 32)        0         \n",
      "2D)                                                              \n",
      "_________________________________________________________________\n",
      "conv2d_2 (Conv2D)            (None, 60, 60, 64)        18496     \n",
      "_________________________________________________________________\n",
      "max_pooling2d_2 (MaxPooling  (None, 30, 30, 64)        0         \n",
      "2D)                                                              \n",
      "_________________________________________________________________\n",
      "conv2d_3 (Conv2D)            (None, 28, 28, 64)        36928     \n",
      "_________________________________________________________________\n",
      "max_pooling2d_3 (MaxPooling  (None, 14, 14, 64)        0         \n",
      "2D)                                                              \n",
      "_________________________________________________________________\n",
      "conv2d_4 (Conv2D)            (None, 12, 12, 64)        36928     \n",
      "_________________________________________________________________\n",
      "max_pooling2d_4 (MaxPooling  (None, 6, 6, 64)          0         \n",
      "2D)                                                              \n",
      "_________________________________________________________________\n",
      "flatten (Flatten)            (None, 2304)              0         \n",
      "_________________________________________________________________\n",
      "dense (Dense)                (None, 512)               1180160   \n",
      "_________________________________________________________________\n",
      "dropout (Dropout)            (None, 512)               0         \n",
      "_________________________________________________________________\n",
      "dense_1 (Dense)              (None, 1)                 513       \n",
      "_________________________________________________________________\n",
      "=================================================================\n",
      "Total params: 1,278,113\n",
      "Trainable params: 1,278,113\n",
      "Non-trainable params: 0\n",
      "_________________________________________________________________\n"
     ]
    }
   ],
   "source": [
    "\"\"\" Sequential Model Architecture Setup \"\"\"\n",
    "model = Sequential()\n",
    "\n",
    "\"\"\" CNN Layering Steps \"\"\"\n",
    "model.add(input_layer)\n",
    "model.add(augmentation_layer)\n",
    "model.add(rescaling_layer)\n",
    "model.add(first_convolutional_layer)\n",
    "model.add(first_pooling_layer)\n",
    "model.add(second_convolutional_layer)\n",
    "model.add(second_pooling_layer)\n",
    "model.add(third_convolutional_layer)\n",
    "model.add(third_pooling_layer)\n",
    "model.add(fourth_convolutional_layer)\n",
    "model.add(fourth_pooling_layer)\n",
    "model.add(fifth_convolutional_layer)\n",
    "model.add(fifth_pooling_layer)\n",
    "model.add(flattening_layer)\n",
    "model.add(first_connective_layer)\n",
    "model.add(first_dropout_layer)\n",
    "model.add(output_connective_layer)\n",
    "\n",
    "\"\"\" CNN Architecture Summarization \"\"\"\n",
    "model.summary()"
   ]
  },
  {
   "cell_type": "code",
   "execution_count": 13,
   "id": "ade85b1c",
   "metadata": {},
   "outputs": [],
   "source": [
    "\"\"\" CNN Model Compilation \"\"\"\n",
    "# TODO: Compile Model with Appropriate Loss, Optimizer, and Metrics-Based Parameters\n",
    "model.compile(\n",
    "    loss=tf.keras.losses.BinaryCrossentropy(from_logits=True),\n",
    "    optimizer=\"nadam\",\n",
    "    metrics=[\"accuracy\"]\n",
    ")"
   ]
  },
  {
   "cell_type": "code",
   "execution_count": 14,
   "id": "7a319f3e",
   "metadata": {},
   "outputs": [
    {
     "name": "stdout",
     "output_type": "stream",
     "text": [
      "Epoch 1/50\n"
     ]
    },
    {
     "name": "stderr",
     "output_type": "stream",
     "text": [
      "/Library/Frameworks/Python.framework/Versions/3.7/lib/python3.7/site-packages/tensorflow/python/util/dispatch.py:1096: UserWarning: \"`binary_crossentropy` received `from_logits=True`, but the `output` argument was produced by a sigmoid or softmax activation and thus does not represent logits. Was this intended?\"\n",
      "  return dispatch_target(*args, **kwargs)\n"
     ]
    },
    {
     "name": "stdout",
     "output_type": "stream",
     "text": [
      "25/25 [==============================] - 25s 864ms/step - loss: 0.7055 - accuracy: 0.5219 - val_loss: 0.6863 - val_accuracy: 0.5930\n",
      "Epoch 2/50\n",
      "25/25 [==============================] - 20s 789ms/step - loss: 0.6900 - accuracy: 0.5494 - val_loss: 0.6775 - val_accuracy: 0.6382\n",
      "Epoch 3/50\n",
      "25/25 [==============================] - 19s 780ms/step - loss: 0.6789 - accuracy: 0.5632 - val_loss: 0.6863 - val_accuracy: 0.5578\n",
      "Epoch 4/50\n",
      "25/25 [==============================] - 20s 801ms/step - loss: 0.7231 - accuracy: 0.5594 - val_loss: 0.6827 - val_accuracy: 0.5377\n",
      "Epoch 5/50\n",
      "25/25 [==============================] - 19s 765ms/step - loss: 0.6906 - accuracy: 0.5494 - val_loss: 0.6765 - val_accuracy: 0.6432\n",
      "Epoch 6/50\n",
      "25/25 [==============================] - 19s 752ms/step - loss: 0.6638 - accuracy: 0.5995 - val_loss: 0.8447 - val_accuracy: 0.5025\n",
      "Epoch 7/50\n",
      "25/25 [==============================] - 20s 807ms/step - loss: 0.6933 - accuracy: 0.5532 - val_loss: 0.6637 - val_accuracy: 0.5879\n",
      "Epoch 8/50\n",
      "25/25 [==============================] - 19s 755ms/step - loss: 0.6626 - accuracy: 0.6233 - val_loss: 0.6542 - val_accuracy: 0.6332\n",
      "Epoch 9/50\n",
      "25/25 [==============================] - 19s 775ms/step - loss: 0.6505 - accuracy: 0.6320 - val_loss: 0.6697 - val_accuracy: 0.6131\n",
      "Epoch 10/50\n",
      "25/25 [==============================] - 19s 766ms/step - loss: 0.6451 - accuracy: 0.6433 - val_loss: 0.6480 - val_accuracy: 0.6533\n",
      "Epoch 11/50\n",
      "25/25 [==============================] - 20s 808ms/step - loss: 0.6311 - accuracy: 0.6483 - val_loss: 0.6704 - val_accuracy: 0.6533\n",
      "Epoch 12/50\n",
      "25/25 [==============================] - 20s 786ms/step - loss: 0.6208 - accuracy: 0.6521 - val_loss: 0.6872 - val_accuracy: 0.5980\n",
      "Epoch 13/50\n",
      "25/25 [==============================] - 20s 797ms/step - loss: 0.6218 - accuracy: 0.6621 - val_loss: 0.6350 - val_accuracy: 0.6533\n",
      "Epoch 14/50\n",
      "25/25 [==============================] - 19s 778ms/step - loss: 0.6140 - accuracy: 0.6658 - val_loss: 0.6951 - val_accuracy: 0.5980\n",
      "Epoch 15/50\n",
      "25/25 [==============================] - 19s 780ms/step - loss: 0.6133 - accuracy: 0.6571 - val_loss: 0.6325 - val_accuracy: 0.7035\n",
      "Epoch 16/50\n",
      "25/25 [==============================] - 20s 793ms/step - loss: 0.5911 - accuracy: 0.6646 - val_loss: 0.6472 - val_accuracy: 0.6533\n",
      "Epoch 17/50\n",
      "25/25 [==============================] - 19s 763ms/step - loss: 0.5942 - accuracy: 0.6821 - val_loss: 0.6386 - val_accuracy: 0.6784\n",
      "Epoch 18/50\n",
      "25/25 [==============================] - 19s 743ms/step - loss: 0.5872 - accuracy: 0.6934 - val_loss: 0.6243 - val_accuracy: 0.6935\n",
      "Epoch 19/50\n",
      "25/25 [==============================] - 18s 742ms/step - loss: 0.5623 - accuracy: 0.7071 - val_loss: 0.6144 - val_accuracy: 0.6985\n",
      "Epoch 20/50\n",
      "25/25 [==============================] - 20s 778ms/step - loss: 0.5683 - accuracy: 0.6984 - val_loss: 0.6222 - val_accuracy: 0.6633\n",
      "Epoch 21/50\n",
      "25/25 [==============================] - 19s 742ms/step - loss: 0.5394 - accuracy: 0.7184 - val_loss: 0.7922 - val_accuracy: 0.6281\n",
      "Epoch 22/50\n",
      "25/25 [==============================] - 18s 739ms/step - loss: 0.5701 - accuracy: 0.6984 - val_loss: 0.5966 - val_accuracy: 0.7035\n",
      "Epoch 23/50\n",
      "25/25 [==============================] - 19s 745ms/step - loss: 0.5259 - accuracy: 0.7459 - val_loss: 0.6688 - val_accuracy: 0.6734\n",
      "Epoch 24/50\n",
      "25/25 [==============================] - 18s 705ms/step - loss: 0.5236 - accuracy: 0.7297 - val_loss: 0.6553 - val_accuracy: 0.7236\n",
      "Epoch 25/50\n",
      "25/25 [==============================] - 18s 706ms/step - loss: 0.5329 - accuracy: 0.7259 - val_loss: 0.5992 - val_accuracy: 0.7085\n",
      "Epoch 26/50\n",
      "25/25 [==============================] - 18s 706ms/step - loss: 0.4920 - accuracy: 0.7584 - val_loss: 0.5975 - val_accuracy: 0.7236\n",
      "Epoch 27/50\n",
      "25/25 [==============================] - 18s 702ms/step - loss: 0.4769 - accuracy: 0.7572 - val_loss: 0.6733 - val_accuracy: 0.6834\n",
      "Epoch 28/50\n",
      "25/25 [==============================] - 18s 713ms/step - loss: 0.5053 - accuracy: 0.7610 - val_loss: 0.6391 - val_accuracy: 0.7136\n",
      "Epoch 29/50\n",
      "25/25 [==============================] - 18s 713ms/step - loss: 0.4579 - accuracy: 0.7947 - val_loss: 0.6284 - val_accuracy: 0.6533\n",
      "Epoch 30/50\n",
      "25/25 [==============================] - 18s 724ms/step - loss: 0.4686 - accuracy: 0.7847 - val_loss: 0.6559 - val_accuracy: 0.6683\n",
      "Epoch 31/50\n",
      "25/25 [==============================] - 18s 711ms/step - loss: 0.4274 - accuracy: 0.8173 - val_loss: 0.6440 - val_accuracy: 0.7035\n",
      "Epoch 32/50\n",
      "25/25 [==============================] - 18s 711ms/step - loss: 0.4428 - accuracy: 0.7885 - val_loss: 0.6599 - val_accuracy: 0.6734\n",
      "Epoch 33/50\n",
      "25/25 [==============================] - 18s 708ms/step - loss: 0.4079 - accuracy: 0.8173 - val_loss: 0.7467 - val_accuracy: 0.6583\n",
      "Epoch 34/50\n",
      "25/25 [==============================] - 18s 712ms/step - loss: 0.3989 - accuracy: 0.8173 - val_loss: 0.7805 - val_accuracy: 0.6633\n",
      "Epoch 35/50\n",
      "25/25 [==============================] - 18s 707ms/step - loss: 0.3978 - accuracy: 0.8248 - val_loss: 0.7757 - val_accuracy: 0.6834\n",
      "Epoch 36/50\n",
      "25/25 [==============================] - 18s 709ms/step - loss: 0.3766 - accuracy: 0.8273 - val_loss: 0.8178 - val_accuracy: 0.7136\n",
      "Epoch 37/50\n",
      "25/25 [==============================] - 18s 706ms/step - loss: 0.3578 - accuracy: 0.8298 - val_loss: 0.7070 - val_accuracy: 0.7437\n",
      "Epoch 38/50\n",
      "25/25 [==============================] - 18s 710ms/step - loss: 0.3408 - accuracy: 0.8536 - val_loss: 0.8872 - val_accuracy: 0.6985\n",
      "Epoch 39/50\n",
      "25/25 [==============================] - 18s 708ms/step - loss: 0.3427 - accuracy: 0.8486 - val_loss: 0.7995 - val_accuracy: 0.6985\n",
      "Epoch 40/50\n",
      "25/25 [==============================] - 18s 708ms/step - loss: 0.3011 - accuracy: 0.8761 - val_loss: 0.7136 - val_accuracy: 0.6985\n",
      "Epoch 41/50\n",
      "25/25 [==============================] - 18s 722ms/step - loss: 0.3110 - accuracy: 0.8698 - val_loss: 0.8984 - val_accuracy: 0.6633\n",
      "Epoch 42/50\n",
      "25/25 [==============================] - 18s 715ms/step - loss: 0.2996 - accuracy: 0.8673 - val_loss: 0.8432 - val_accuracy: 0.6734\n",
      "Epoch 43/50\n",
      "25/25 [==============================] - 18s 720ms/step - loss: 0.2789 - accuracy: 0.8824 - val_loss: 0.9574 - val_accuracy: 0.6683\n",
      "Epoch 44/50\n",
      "25/25 [==============================] - 18s 734ms/step - loss: 0.2973 - accuracy: 0.8673 - val_loss: 0.8618 - val_accuracy: 0.7186\n",
      "Epoch 45/50\n",
      "25/25 [==============================] - 18s 711ms/step - loss: 0.2693 - accuracy: 0.8861 - val_loss: 0.9434 - val_accuracy: 0.6784\n",
      "Epoch 46/50\n",
      "25/25 [==============================] - 18s 737ms/step - loss: 0.1988 - accuracy: 0.9174 - val_loss: 0.9670 - val_accuracy: 0.7286\n",
      "Epoch 47/50\n",
      "25/25 [==============================] - 18s 729ms/step - loss: 0.2281 - accuracy: 0.9061 - val_loss: 1.0074 - val_accuracy: 0.6784\n",
      "Epoch 48/50\n",
      "25/25 [==============================] - 18s 707ms/step - loss: 0.2094 - accuracy: 0.9161 - val_loss: 1.0818 - val_accuracy: 0.7337\n",
      "Epoch 49/50\n",
      "25/25 [==============================] - 18s 717ms/step - loss: 0.2022 - accuracy: 0.9099 - val_loss: 1.0441 - val_accuracy: 0.7136\n",
      "Epoch 50/50\n",
      "25/25 [==============================] - 18s 714ms/step - loss: 0.2035 - accuracy: 0.9161 - val_loss: 1.2130 - val_accuracy: 0.6935\n"
     ]
    }
   ],
   "source": [
    "\"\"\" CNN Model Fitness and History Extraction \"\"\"\n",
    "# TODO: Fit Model Against Training and Validation Data with Appropriate Epochs\n",
    "epochs = 50\n",
    "history = model.fit(train,\n",
    "                    validation_data=validation,\n",
    "                    epochs=epochs)"
   ]
  },
  {
   "cell_type": "code",
   "execution_count": 15,
   "id": "1bb566f0",
   "metadata": {},
   "outputs": [
    {
     "name": "stdout",
     "output_type": "stream",
     "text": [
      "7/7 [==============================] - 1s 161ms/step - loss: 1.2130 - accuracy: 0.6935\n"
     ]
    },
    {
     "data": {
      "text/plain": [
       "[1.2129515409469604, 0.6934673190116882]"
      ]
     },
     "execution_count": 15,
     "metadata": {},
     "output_type": "execute_result"
    }
   ],
   "source": [
    "\"\"\" CNN Model Predictive Evaluation \"\"\"\n",
    "model.evaluate(validation)"
   ]
  },
  {
   "cell_type": "code",
   "execution_count": 16,
   "id": "c145c015",
   "metadata": {},
   "outputs": [],
   "source": [
    "def plot_training_results(history):\n",
    "    \"\"\"\n",
    "    Visualize results of the model training using `matplotlib`.\n",
    "\n",
    "    The visualization will include charts for accuracy and loss, \n",
    "    on the training and as well as validation data sets.\n",
    "\n",
    "    INPUTS:\n",
    "        history(tf.keras.callbacks.History): \n",
    "            Contains data on how the model metrics changed \n",
    "            over the course of training.\n",
    "    \n",
    "    OUTPUTS: \n",
    "        None.\n",
    "    \"\"\"\n",
    "    accuracy = history.history['accuracy']\n",
    "    validation_accuracy = history.history['val_accuracy']\n",
    "\n",
    "    loss = history.history['loss']\n",
    "    validation_loss = history.history['val_loss']\n",
    "\n",
    "    epochs_range = range(epochs)\n",
    "\n",
    "    plt.figure(figsize=(20, 8))\n",
    "    plt.subplot(1, 2, 1)\n",
    "    plt.plot(epochs_range, accuracy, label='Training Accuracy')\n",
    "    plt.plot(epochs_range, validation_accuracy, label='Validation Accuracy')\n",
    "    plt.legend(loc='lower right')\n",
    "    plt.title('Training and Validation Accuracy')\n",
    "\n",
    "    plt.subplot(1, 2, 2)\n",
    "    plt.plot(epochs_range, loss, label='Training Loss')\n",
    "    plt.plot(epochs_range, validation_loss, label='Validation Loss')\n",
    "    plt.legend(loc='upper right')\n",
    "    plt.title('Training and Validation Loss')\n",
    "    plt.show()\n"
   ]
  },
  {
   "cell_type": "code",
   "execution_count": 17,
   "id": "1ccd14f5",
   "metadata": {},
   "outputs": [
    {
     "data": {
      "image/png": "[encoded data removed]",
      "text/plain": [
       "<Figure size 1440x576 with 2 Axes>"
      ]
     },
     "metadata": {
      "needs_background": "light"
     },
     "output_type": "display_data"
    }
   ],
   "source": [
    "plot_training_results(history)"
   ]
  },
  {
   "cell_type": "markdown",
   "id": "50760677",
   "metadata": {},
   "source": [
    "#### 🔹 Model State Saving\n",
    "\n",
    "We export the model's weights and parameters for deployment purposes by running the following function."
   ]
  },
  {
   "cell_type": "code",
   "execution_count": 18,
   "id": "2623a7f2",
   "metadata": {},
   "outputs": [],
   "source": [
    "def save_model(model, file_name, save_format):\n",
    "    \"\"\" \n",
    "    Save the model weights and architecture.\n",
    "    \n",
    "    Parameters: \n",
    "       model(Model): keras Model object being saved\n",
    "       file_name(str): name of the Hadoop file where\n",
    "                       the whole model will be saved\n",
    "       save_format(str): Indicates whether to save the model to the default\n",
    "                         SavedModel('tf'), or HDF5('h5'), or \n",
    "                         use both H5 and JSON ('composite') formats. \n",
    "       Returns: None\n",
    "    \"\"\"\n",
    "    MODEL_DIRECTORY = \"../model\"\n",
    "    def __save_as_composite():\n",
    "      \"\"\" Saving the model as H5 (for params) + JSON (for the architecture) \"\"\"\n",
    "      # Save the weights\n",
    "      model.save_weights(f'{MODEL_DIRECTORY}/{file_name}_params.h5')\n",
    "      # Save the architecture\n",
    "      with open(f'{MODEL_DIRECTORY}/{file_name}_layers.json', 'w') as f:\n",
    "          f.write(model.to_json())\n",
    "    \n",
    "    def __save_as_h5():\n",
    "      \"\"\" Option 2: Saving whole model as a single H5 file (more storage) \"\"\"\n",
    "      model.save(f\"{MODEL_DIRECTORY}/{file_name}.h5\", save_format=save_format)\n",
    "\n",
    "    # Call the appropiate save func\n",
    "    if save_format == 'h5':\n",
    "      __save_as_h5()\n",
    "    elif save_format == 'composite':\n",
    "      __save_as_composite()\n",
    "    else:  # save as a SavedModel\n",
    "      model.save(file_name)"
   ]
  },
  {
   "cell_type": "code",
   "execution_count": 20,
   "id": "188e3c77",
   "metadata": {},
   "outputs": [],
   "source": [
    "save_model(model, \"hotdog_cnn_classifier\", \"composite\")"
   ]
  }
 ],
 "metadata": {
  "kernelspec": {
   "display_name": "Python 3 (ipykernel)",
   "language": "python",
   "name": "python3"
  },
  "language_info": {
   "codemirror_mode": {
    "name": "ipython",
    "version": 3
   },
   "file_extension": ".py",
   "mimetype": "text/x-python",
   "name": "python",
   "nbconvert_exporter": "python",
   "pygments_lexer": "ipython3",
   "version": "3.7.9"
  }
 },
 "nbformat": 4,
 "nbformat_minor": 5
}
