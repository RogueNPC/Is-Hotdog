{
 "cells": [
  {
   "cell_type": "markdown",
   "id": "baa7f365",
   "metadata": {},
   "source": [
    "# 🌭Is Hotdog?🌭\n",
    "\n",
    "Based on the TV series Silicon Valley, I will create a fully tutorialized Convolutional Neural Network (CNN) that can determine whether or not there is a hotdog in the image entered.  "
   ]
  },
  {
   "cell_type": "markdown",
   "id": "cfa09521",
   "metadata": {},
   "source": [
    "#### 🔹 General Importations\n",
    "\n",
    "we'll start with importing basic tools and functions for our task."
   ]
  },
  {
   "cell_type": "code",
   "execution_count": 1,
   "id": "315a5af6",
   "metadata": {},
   "outputs": [
    {
     "name": "stdout",
     "output_type": "stream",
     "text": [
      "2.7.0-dev20210922\n"
     ]
    }
   ],
   "source": [
    "import numpy as np\n",
    "import matplotlib.pyplot as plt\n",
    "from sklearn import utils\n",
    "\n",
    "import os, PIL\n",
    "from glob import glob\n",
    "\n",
    "import tensorflow as tf\n",
    "\n",
    "print(tf.__version__)"
   ]
  },
  {
   "cell_type": "markdown",
   "id": "c034c38b",
   "metadata": {},
   "source": [
    "#### 🔹 Deep Learning Functional Initializations\n",
    "\n",
    "As good practice, let's initialize the specific tools we'll be using from TensorFlow to make things a little more readable moving forward."
   ]
  },
  {
   "cell_type": "code",
   "execution_count": 2,
   "id": "61d0249f",
   "metadata": {},
   "outputs": [],
   "source": [
    "\"\"\" Sequential Model Architecture \"\"\"\n",
    "Sequential = tf.keras.models.Sequential\n",
    "\n",
    "\"\"\" Data Preprocessing Functions \"\"\"\n",
    "Resizing = tf.keras.layers.Resizing\n",
    "Rescaling = tf.keras.layers.Rescaling\n",
    "\n",
    "\"\"\" Data Augmentation Functions \"\"\"\n",
    "RandomFlip = tf.keras.layers.RandomFlip\n",
    "RandomRotation = tf.keras.layers.RandomRotation\n",
    "RandomZoom = tf.keras.layers.RandomZoom\n",
    "\n",
    "\"\"\" Artificial Neural Network Layer Inventory \"\"\"\n",
    "Dense = tf.keras.layers.Dense\n",
    "Dropout = tf.keras.layers.Dropout\n",
    "\n",
    "\"\"\" Convolutional Neural Network Layer Inventory \"\"\"\n",
    "Conv2D = tf.keras.layers.Conv2D\n",
    "MaxPool2D = tf.keras.layers.MaxPooling2D\n",
    "Flatten = tf.keras.layers.Flatten\n",
    "\n",
    "\"\"\" Residual Network Layer Inventory \"\"\"\n",
    "ResNet50 = tf.keras.applications.resnet50.ResNet50\n",
    "\n",
    "\"\"\" Function to Load Images from Target Folder \"\"\"\n",
    "image_dataset_from_directory = tf.keras.preprocessing.image_dataset_from_directory"
   ]
  },
  {
   "cell_type": "markdown",
   "id": "ffc6f849",
   "metadata": {},
   "source": [
    "#### 🔹 Data Loading and Preprocessing"
   ]
  },
  {
   "cell_type": "code",
   "execution_count": 3,
   "id": "9f3a8c95",
   "metadata": {
    "scrolled": true
   },
   "outputs": [
    {
     "name": "stdout",
     "output_type": "stream",
     "text": [
      "Number of hotdog image samples: 499\n",
      "Number of not-hotdog image samples: 499\n"
     ]
    }
   ],
   "source": [
    "# Use the `glob.glob` function to show how many images are in each folder\n",
    "DATA_DIRECTORY = \"../dataset/\"\n",
    "HOT_DOG_IMAGES_PATTERN = f\"{DATA_DIRECTORY}/hot_dog/*\"\n",
    "NOT_HOT_DOG_IMAGES_PATTERN = f\"{DATA_DIRECTORY}/not_hot_dog/*\"\n",
    "\n",
    "print(f\"Number of hotdog image samples: {len(glob(HOT_DOG_IMAGES_PATTERN))}\")\n",
    "print(f\"Number of not-hotdog image samples: {len(glob(NOT_HOT_DOG_IMAGES_PATTERN))}\")"
   ]
  },
  {
   "cell_type": "code",
   "execution_count": 4,
   "id": "37c08321",
   "metadata": {},
   "outputs": [],
   "source": [
    "batch_size = 32\n",
    "IMAGE_HEIGHT = IMAGE_WIDTH = 256"
   ]
  },
  {
   "cell_type": "code",
   "execution_count": 5,
   "id": "aca4bdb0",
   "metadata": {},
   "outputs": [
    {
     "name": "stdout",
     "output_type": "stream",
     "text": [
      "Found 998 files belonging to 2 classes.\n",
      "Using 799 files for training.\n"
     ]
    }
   ],
   "source": [
    "# needed to remove error caused by tf-nightly & image_dataset_from_directory\n",
    "os.environ['TF_CPP_MIN_LOG_LEVEL'] = '2'\n",
    "\n",
    "train = tf.keras.utils.image_dataset_from_directory(\n",
    "    directory=DATA_DIRECTORY,\n",
    "    validation_split=0.2,\n",
    "    subset=\"training\",\n",
    "    seed=42,\n",
    "    image_size=(IMAGE_HEIGHT, IMAGE_WIDTH),\n",
    "    batch_size=batch_size\n",
    ")"
   ]
  },
  {
   "cell_type": "code",
   "execution_count": 6,
   "id": "1b4ce2c0",
   "metadata": {},
   "outputs": [],
   "source": [
    "class_names = train.class_names"
   ]
  },
  {
   "cell_type": "code",
   "execution_count": 7,
   "id": "508c3066",
   "metadata": {},
   "outputs": [
    {
     "name": "stdout",
     "output_type": "stream",
     "text": [
      "Found 998 files belonging to 2 classes.\n",
      "Using 199 files for validation.\n"
     ]
    }
   ],
   "source": [
    "validation = image_dataset_from_directory(\n",
    "    directory=DATA_DIRECTORY,\n",
    "    validation_split=0.2,\n",
    "    subset=\"validation\",\n",
    "    seed=42,\n",
    "    image_size=(IMAGE_HEIGHT, IMAGE_WIDTH),\n",
    "    batch_size=batch_size\n",
    ")"
   ]
  },
  {
   "cell_type": "markdown",
   "id": "e5506fc7",
   "metadata": {},
   "source": [
    "#### 🔹 Pre-Optimize Image File Ingestion\n",
    "\n",
    "This is an accessory step to optimize image data ingestion at the cost of slightly higher memory usage. No modifications are required for this function. "
   ]
  },
  {
   "cell_type": "code",
   "execution_count": 8,
   "id": "ab7f294d",
   "metadata": {},
   "outputs": [],
   "source": [
    "def configure_performant_datasets(dataset, shuffling=None):\n",
    "    \"\"\" \n",
    "    Custom function to prefetch and cache stored elements\n",
    "    of retrieved image data to boost latency and performance\n",
    "    at the cost of higher memory usage. \n",
    "    \"\"\"\n",
    "    AUTOTUNE = tf.data.AUTOTUNE\n",
    "    # Cache and prefetch elements of input data for boosted performance\n",
    "    if not shuffling:\n",
    "        return dataset.cache().prefetch(buffer_size=AUTOTUNE)\n",
    "    else:\n",
    "        return dataset.cache().shuffle(shuffling).prefetch(buffer_size=AUTOTUNE)"
   ]
  },
  {
   "cell_type": "code",
   "execution_count": 9,
   "id": "236beb1f",
   "metadata": {},
   "outputs": [],
   "source": [
    "train =         configure_performant_datasets(train, shuffling=1000)\n",
    "validation =    configure_performant_datasets(validation)"
   ]
  },
  {
   "cell_type": "markdown",
   "id": "5be24496",
   "metadata": {},
   "source": [
    "#### 🔹 Data Ingestion and Predictive Modeling"
   ]
  },
  {
   "cell_type": "code",
   "execution_count": 10,
   "id": "f6bf4a5e",
   "metadata": {},
   "outputs": [],
   "source": [
    "resizing_layer = Resizing(IMAGE_HEIGHT, IMAGE_WIDTH)\n",
    "normalization_layer = Rescaling(1./255, input_shape=(IMAGE_HEIGHT, IMAGE_WIDTH, 3))"
   ]
  },
  {
   "cell_type": "code",
   "execution_count": 15,
   "id": "495c5e81",
   "metadata": {},
   "outputs": [],
   "source": [
    "input_layer = tf.keras.Input(shape=(IMAGE_HEIGHT, IMAGE_WIDTH, 3))\n",
    "\n",
    "random_flipping_layer = RandomFlip(\"horizontal\", input_shape=(IMAGE_HEIGHT, IMAGE_WIDTH, 3))\n",
    "random_rotation_layer = RandomRotation(0.1)\n",
    "random_zooming_layer = RandomZoom(0.2)\n",
    "\n",
    "augmentation_layer = Sequential([random_flipping_layer, \n",
    "                                       random_rotation_layer, \n",
    "                                       random_zooming_layer])\n",
    "\n",
    "rescaling_layer = Rescaling(scale=1/127.5, offset=-1)\n",
    "\n",
    "first_convolutional_layer = Conv2D(16, \n",
    "                                   kernel_size=(3, 3), \n",
    "                                   activation=\"relu\")\n",
    "second_convolutional_layer = Conv2D(32,\n",
    "                                    kernel_size=(3, 3),\n",
    "                                    activation=\"relu\")\n",
    "third_convolutional_layer = Conv2D(64,\n",
    "                                   kernel_size=(3, 3),\n",
    "                                   activation=\"relu\")\n",
    "fourth_convolutional_layer = Conv2D(64,\n",
    "                                    kernel_size=(3, 3),\n",
    "                                    activation=\"relu\")\n",
    "fifth_convolutional_layer = Conv2D(64,\n",
    "                                    kernel_size=(3, 3),\n",
    "                                    activation=\"relu\")\n",
    "\n",
    "first_pooling_layer = MaxPool2D(pool_size=(2, 2))\n",
    "second_pooling_layer = MaxPool2D(pool_size=(2, 2))\n",
    "third_pooling_layer = MaxPool2D(pool_size=(2, 2))\n",
    "fourth_pooling_layer = MaxPool2D(pool_size=(2, 2))\n",
    "fifth_pooling_layer = MaxPool2D(pool_size=(2, 2))\n",
    "\n",
    "flattening_layer = Flatten()\n",
    "\n",
    "first_connective_layer = Dense(512, activation=\"relu\")\n",
    "output_connective_layer = Dense(1, activation='sigmoid')\n",
    "\n",
    "first_dropout_layer = Dropout(0.3)"
   ]
  },
  {
   "cell_type": "code",
   "execution_count": 16,
   "id": "f0c326c2",
   "metadata": {},
   "outputs": [
    {
     "name": "stdout",
     "output_type": "stream",
     "text": [
      "Model: \"sequential_5\"\n",
      "_________________________________________________________________\n",
      "Layer (type)                 Output Shape              Param #   \n",
      "=================================================================\n",
      "sequential_4 (Sequential)    (None, 256, 256, 3)       0         \n",
      "_________________________________________________________________\n",
      "rescaling_2 (Rescaling)      (None, 256, 256, 3)       0         \n",
      "_________________________________________________________________\n",
      "conv2d_5 (Conv2D)            (None, 254, 254, 16)      448       \n",
      "_________________________________________________________________\n",
      "max_pooling2d_5 (MaxPooling  (None, 127, 127, 16)      0         \n",
      "2D)                                                              \n",
      "_________________________________________________________________\n",
      "conv2d_6 (Conv2D)            (None, 125, 125, 32)      4640      \n",
      "_________________________________________________________________\n",
      "max_pooling2d_6 (MaxPooling  (None, 62, 62, 32)        0         \n",
      "2D)                                                              \n",
      "_________________________________________________________________\n",
      "conv2d_7 (Conv2D)            (None, 60, 60, 64)        18496     \n",
      "_________________________________________________________________\n",
      "max_pooling2d_7 (MaxPooling  (None, 30, 30, 64)        0         \n",
      "2D)                                                              \n",
      "_________________________________________________________________\n",
      "conv2d_8 (Conv2D)            (None, 28, 28, 64)        36928     \n",
      "_________________________________________________________________\n",
      "max_pooling2d_8 (MaxPooling  (None, 14, 14, 64)        0         \n",
      "2D)                                                              \n",
      "_________________________________________________________________\n",
      "conv2d_9 (Conv2D)            (None, 12, 12, 64)        36928     \n",
      "_________________________________________________________________\n",
      "max_pooling2d_9 (MaxPooling  (None, 6, 6, 64)          0         \n",
      "2D)                                                              \n",
      "_________________________________________________________________\n",
      "flatten_1 (Flatten)          (None, 2304)              0         \n",
      "_________________________________________________________________\n",
      "dense_2 (Dense)              (None, 512)               1180160   \n",
      "_________________________________________________________________\n",
      "dropout_1 (Dropout)          (None, 512)               0         \n",
      "_________________________________________________________________\n",
      "dense_3 (Dense)              (None, 1)                 513       \n",
      "_________________________________________________________________\n",
      "=================================================================\n",
      "Total params: 1,278,113\n",
      "Trainable params: 1,278,113\n",
      "Non-trainable params: 0\n",
      "_________________________________________________________________\n"
     ]
    }
   ],
   "source": [
    "\"\"\" Sequential Model Architecture Setup \"\"\"\n",
    "model = Sequential()\n",
    "\n",
    "\"\"\" CNN Layering Steps \"\"\"\n",
    "model.add(input_layer)\n",
    "model.add(augmentation_layer)\n",
    "model.add(rescaling_layer)\n",
    "model.add(first_convolutional_layer)\n",
    "model.add(first_pooling_layer)\n",
    "model.add(second_convolutional_layer)\n",
    "model.add(second_pooling_layer)\n",
    "model.add(third_convolutional_layer)\n",
    "model.add(third_pooling_layer)\n",
    "model.add(fourth_convolutional_layer)\n",
    "model.add(fourth_pooling_layer)\n",
    "model.add(fifth_convolutional_layer)\n",
    "model.add(fifth_pooling_layer)\n",
    "model.add(flattening_layer)\n",
    "model.add(first_connective_layer)\n",
    "model.add(first_dropout_layer)\n",
    "model.add(output_connective_layer)\n",
    "\n",
    "\"\"\" CNN Architecture Summarization \"\"\"\n",
    "model.summary()"
   ]
  },
  {
   "cell_type": "code",
   "execution_count": 17,
   "id": "ade85b1c",
   "metadata": {},
   "outputs": [],
   "source": [
    "\"\"\" CNN Model Compilation \"\"\"\n",
    "# TODO: Compile Model with Appropriate Loss, Optimizer, and Metrics-Based Parameters\n",
    "model.compile(\n",
    "    loss=tf.keras.losses.BinaryCrossentropy(from_logits=True),\n",
    "    optimizer=\"nadam\",\n",
    "    metrics=[\"accuracy\"]\n",
    ")"
   ]
  },
  {
   "cell_type": "code",
   "execution_count": 18,
   "id": "7a319f3e",
   "metadata": {},
   "outputs": [
    {
     "name": "stdout",
     "output_type": "stream",
     "text": [
      "Epoch 1/50\n"
     ]
    },
    {
     "name": "stderr",
     "output_type": "stream",
     "text": [
      "/Library/Frameworks/Python.framework/Versions/3.7/lib/python3.7/site-packages/tensorflow/python/util/dispatch.py:1096: UserWarning: \"`binary_crossentropy` received `from_logits=True`, but the `output` argument was produced by a sigmoid or softmax activation and thus does not represent logits. Was this intended?\"\n",
      "  return dispatch_target(*args, **kwargs)\n"
     ]
    },
    {
     "name": "stdout",
     "output_type": "stream",
     "text": [
      "25/25 [==============================] - 20s 712ms/step - loss: 0.6912 - accuracy: 0.5307 - val_loss: 0.6810 - val_accuracy: 0.5779\n",
      "Epoch 2/50\n",
      "25/25 [==============================] - 18s 727ms/step - loss: 0.6984 - accuracy: 0.5507 - val_loss: 0.6862 - val_accuracy: 0.6030\n",
      "Epoch 3/50\n",
      "25/25 [==============================] - 18s 731ms/step - loss: 0.6866 - accuracy: 0.5895 - val_loss: 0.6848 - val_accuracy: 0.5025\n",
      "Epoch 4/50\n",
      "25/25 [==============================] - 18s 739ms/step - loss: 0.6659 - accuracy: 0.5932 - val_loss: 0.6690 - val_accuracy: 0.6131\n",
      "Epoch 5/50\n",
      "25/25 [==============================] - 18s 731ms/step - loss: 0.6610 - accuracy: 0.6145 - val_loss: 0.6857 - val_accuracy: 0.5126\n",
      "Epoch 6/50\n",
      "25/25 [==============================] - 18s 725ms/step - loss: 0.6505 - accuracy: 0.6208 - val_loss: 0.6354 - val_accuracy: 0.6834\n",
      "Epoch 7/50\n",
      "25/25 [==============================] - 18s 729ms/step - loss: 0.6344 - accuracy: 0.6508 - val_loss: 0.6459 - val_accuracy: 0.6432\n",
      "Epoch 8/50\n",
      "25/25 [==============================] - 20s 796ms/step - loss: 0.6380 - accuracy: 0.6433 - val_loss: 0.6315 - val_accuracy: 0.6935\n",
      "Epoch 9/50\n",
      "25/25 [==============================] - 20s 814ms/step - loss: 0.6308 - accuracy: 0.6546 - val_loss: 0.6342 - val_accuracy: 0.6935\n",
      "Epoch 10/50\n",
      "25/25 [==============================] - 19s 776ms/step - loss: 0.6268 - accuracy: 0.6696 - val_loss: 0.6463 - val_accuracy: 0.6332\n",
      "Epoch 11/50\n",
      "25/25 [==============================] - 19s 777ms/step - loss: 0.6223 - accuracy: 0.6683 - val_loss: 0.6645 - val_accuracy: 0.6231\n",
      "Epoch 12/50\n",
      "25/25 [==============================] - 19s 760ms/step - loss: 0.6080 - accuracy: 0.6721 - val_loss: 0.7399 - val_accuracy: 0.5377\n",
      "Epoch 13/50\n",
      "25/25 [==============================] - 19s 746ms/step - loss: 0.6048 - accuracy: 0.6733 - val_loss: 0.6206 - val_accuracy: 0.6834\n",
      "Epoch 14/50\n",
      "25/25 [==============================] - 19s 768ms/step - loss: 0.5997 - accuracy: 0.6746 - val_loss: 0.6127 - val_accuracy: 0.6734\n",
      "Epoch 15/50\n",
      "25/25 [==============================] - 19s 774ms/step - loss: 0.5857 - accuracy: 0.6809 - val_loss: 0.6484 - val_accuracy: 0.6583\n",
      "Epoch 16/50\n",
      "25/25 [==============================] - 19s 776ms/step - loss: 0.5838 - accuracy: 0.6771 - val_loss: 0.7526 - val_accuracy: 0.5427\n",
      "Epoch 17/50\n",
      "25/25 [==============================] - 19s 765ms/step - loss: 0.5715 - accuracy: 0.7084 - val_loss: 0.6744 - val_accuracy: 0.6533\n",
      "Epoch 18/50\n",
      "25/25 [==============================] - 20s 782ms/step - loss: 0.5525 - accuracy: 0.7309 - val_loss: 0.6549 - val_accuracy: 0.6834\n",
      "Epoch 19/50\n",
      "25/25 [==============================] - 19s 774ms/step - loss: 0.5555 - accuracy: 0.7159 - val_loss: 0.6385 - val_accuracy: 0.6985\n",
      "Epoch 20/50\n",
      "25/25 [==============================] - 19s 768ms/step - loss: 0.5511 - accuracy: 0.7171 - val_loss: 0.6432 - val_accuracy: 0.6834\n",
      "Epoch 21/50\n",
      "25/25 [==============================] - 20s 783ms/step - loss: 0.5316 - accuracy: 0.7272 - val_loss: 0.6440 - val_accuracy: 0.7085\n",
      "Epoch 22/50\n",
      "25/25 [==============================] - 20s 798ms/step - loss: 0.5332 - accuracy: 0.7234 - val_loss: 0.6399 - val_accuracy: 0.6583\n",
      "Epoch 23/50\n",
      "25/25 [==============================] - 20s 789ms/step - loss: 0.5083 - accuracy: 0.7584 - val_loss: 0.6564 - val_accuracy: 0.6734\n",
      "Epoch 24/50\n",
      "25/25 [==============================] - 20s 814ms/step - loss: 0.4755 - accuracy: 0.7847 - val_loss: 0.7373 - val_accuracy: 0.6633\n",
      "Epoch 25/50\n",
      "25/25 [==============================] - 19s 772ms/step - loss: 0.4992 - accuracy: 0.7497 - val_loss: 0.7632 - val_accuracy: 0.6332\n",
      "Epoch 26/50\n",
      "25/25 [==============================] - 19s 766ms/step - loss: 0.4528 - accuracy: 0.7972 - val_loss: 0.6801 - val_accuracy: 0.7136\n",
      "Epoch 27/50\n",
      "25/25 [==============================] - 19s 767ms/step - loss: 0.4269 - accuracy: 0.7997 - val_loss: 0.7863 - val_accuracy: 0.6784\n",
      "Epoch 28/50\n",
      "25/25 [==============================] - 19s 764ms/step - loss: 0.4277 - accuracy: 0.7960 - val_loss: 0.6975 - val_accuracy: 0.6834\n",
      "Epoch 29/50\n",
      "25/25 [==============================] - 20s 813ms/step - loss: 0.4226 - accuracy: 0.8085 - val_loss: 0.8009 - val_accuracy: 0.6784\n",
      "Epoch 30/50\n",
      "25/25 [==============================] - 22s 876ms/step - loss: 0.4499 - accuracy: 0.7897 - val_loss: 0.7525 - val_accuracy: 0.6533\n",
      "Epoch 31/50\n",
      "25/25 [==============================] - 21s 838ms/step - loss: 0.3508 - accuracy: 0.8360 - val_loss: 0.7825 - val_accuracy: 0.6734\n",
      "Epoch 32/50\n",
      "25/25 [==============================] - 21s 854ms/step - loss: 0.3524 - accuracy: 0.8486 - val_loss: 0.8668 - val_accuracy: 0.6834\n",
      "Epoch 33/50\n",
      "25/25 [==============================] - 22s 893ms/step - loss: 0.3369 - accuracy: 0.8448 - val_loss: 0.7486 - val_accuracy: 0.6834\n",
      "Epoch 34/50\n",
      "25/25 [==============================] - 21s 826ms/step - loss: 0.3470 - accuracy: 0.8335 - val_loss: 0.7616 - val_accuracy: 0.6834\n",
      "Epoch 35/50\n",
      "25/25 [==============================] - 21s 823ms/step - loss: 0.4189 - accuracy: 0.8373 - val_loss: 0.6555 - val_accuracy: 0.7236\n",
      "Epoch 36/50\n",
      "25/25 [==============================] - 20s 811ms/step - loss: 0.3187 - accuracy: 0.8598 - val_loss: 0.7548 - val_accuracy: 0.6834\n",
      "Epoch 37/50\n",
      "25/25 [==============================] - 20s 813ms/step - loss: 0.3078 - accuracy: 0.8698 - val_loss: 0.8060 - val_accuracy: 0.7085\n",
      "Epoch 38/50\n",
      "25/25 [==============================] - 21s 848ms/step - loss: 0.2736 - accuracy: 0.8986 - val_loss: 0.8440 - val_accuracy: 0.7286\n",
      "Epoch 39/50\n",
      "25/25 [==============================] - 20s 812ms/step - loss: 0.3020 - accuracy: 0.8748 - val_loss: 0.8068 - val_accuracy: 0.6884\n",
      "Epoch 40/50\n",
      "25/25 [==============================] - 20s 814ms/step - loss: 0.2567 - accuracy: 0.8911 - val_loss: 0.9235 - val_accuracy: 0.7035\n",
      "Epoch 41/50\n",
      "25/25 [==============================] - 20s 794ms/step - loss: 0.2300 - accuracy: 0.9061 - val_loss: 1.1047 - val_accuracy: 0.6734\n",
      "Epoch 42/50\n",
      "25/25 [==============================] - 20s 789ms/step - loss: 0.2301 - accuracy: 0.9049 - val_loss: 1.0109 - val_accuracy: 0.6884\n",
      "Epoch 43/50\n",
      "25/25 [==============================] - 20s 789ms/step - loss: 0.2132 - accuracy: 0.9111 - val_loss: 1.2025 - val_accuracy: 0.6533\n",
      "Epoch 44/50\n",
      "25/25 [==============================] - 20s 787ms/step - loss: 0.2289 - accuracy: 0.9099 - val_loss: 0.9387 - val_accuracy: 0.6884\n",
      "Epoch 45/50\n",
      "25/25 [==============================] - 20s 810ms/step - loss: 0.2174 - accuracy: 0.9111 - val_loss: 0.9483 - val_accuracy: 0.6935\n",
      "Epoch 46/50\n",
      "25/25 [==============================] - 21s 830ms/step - loss: 0.1807 - accuracy: 0.9287 - val_loss: 1.1585 - val_accuracy: 0.6583\n",
      "Epoch 47/50\n",
      "25/25 [==============================] - 20s 794ms/step - loss: 0.2091 - accuracy: 0.9174 - val_loss: 1.1076 - val_accuracy: 0.6533\n",
      "Epoch 48/50\n",
      "25/25 [==============================] - 20s 788ms/step - loss: 0.1955 - accuracy: 0.9149 - val_loss: 1.0185 - val_accuracy: 0.7286\n",
      "Epoch 49/50\n",
      "25/25 [==============================] - 20s 787ms/step - loss: 0.1575 - accuracy: 0.9399 - val_loss: 1.1101 - val_accuracy: 0.6935\n",
      "Epoch 50/50\n",
      "25/25 [==============================] - 20s 799ms/step - loss: 0.1555 - accuracy: 0.9449 - val_loss: 1.3024 - val_accuracy: 0.7035\n"
     ]
    }
   ],
   "source": [
    "\"\"\" CNN Model Fitness and History Extraction \"\"\"\n",
    "# TODO: Fit Model Against Training and Validation Data with Appropriate Epochs\n",
    "epochs = 50\n",
    "history = model.fit(train,\n",
    "                    validation_data=validation,\n",
    "                    epochs=epochs)"
   ]
  },
  {
   "cell_type": "code",
   "execution_count": 19,
   "id": "1bb566f0",
   "metadata": {},
   "outputs": [
    {
     "name": "stdout",
     "output_type": "stream",
     "text": [
      "7/7 [==============================] - 1s 180ms/step - loss: 1.3024 - accuracy: 0.7035\n"
     ]
    },
    {
     "data": {
      "text/plain": [
       "[1.3023579120635986, 0.7035176157951355]"
      ]
     },
     "execution_count": 19,
     "metadata": {},
     "output_type": "execute_result"
    }
   ],
   "source": [
    "\"\"\" CNN Model Predictive Evaluation \"\"\"\n",
    "model.evaluate(validation)"
   ]
  },
  {
   "cell_type": "code",
   "execution_count": 20,
   "id": "c145c015",
   "metadata": {},
   "outputs": [],
   "source": [
    "def plot_training_results(history):\n",
    "    \"\"\"\n",
    "    Visualize results of the model training using `matplotlib`.\n",
    "\n",
    "    The visualization will include charts for accuracy and loss, \n",
    "    on the training and as well as validation data sets.\n",
    "\n",
    "    INPUTS:\n",
    "        history(tf.keras.callbacks.History): \n",
    "            Contains data on how the model metrics changed \n",
    "            over the course of training.\n",
    "    \n",
    "    OUTPUTS: \n",
    "        None.\n",
    "    \"\"\"\n",
    "    accuracy = history.history['accuracy']\n",
    "    validation_accuracy = history.history['val_accuracy']\n",
    "\n",
    "    loss = history.history['loss']\n",
    "    validation_loss = history.history['val_loss']\n",
    "\n",
    "    epochs_range = range(epochs)\n",
    "\n",
    "    plt.figure(figsize=(20, 8))\n",
    "    plt.subplot(1, 2, 1)\n",
    "    plt.plot(epochs_range, accuracy, label='Training Accuracy')\n",
    "    plt.plot(epochs_range, validation_accuracy, label='Validation Accuracy')\n",
    "    plt.legend(loc='lower right')\n",
    "    plt.title('Training and Validation Accuracy')\n",
    "\n",
    "    plt.subplot(1, 2, 2)\n",
    "    plt.plot(epochs_range, loss, label='Training Loss')\n",
    "    plt.plot(epochs_range, validation_loss, label='Validation Loss')\n",
    "    plt.legend(loc='upper right')\n",
    "    plt.title('Training and Validation Loss')\n",
    "    plt.show()\n"
   ]
  },
  {
   "cell_type": "code",
   "execution_count": 21,
   "id": "1ccd14f5",
   "metadata": {},
   "outputs": [
    {
     "data": {
      "image/png": "[encoded data removed]",
      "text/plain": [
       "<Figure size 1440x576 with 2 Axes>"
      ]
     },
     "metadata": {
      "needs_background": "light"
     },
     "output_type": "display_data"
    }
   ],
   "source": [
    "plot_training_results(history)"
   ]
  }
 ],
 "metadata": {
  "kernelspec": {
   "display_name": "Python 3 (ipykernel)",
   "language": "python",
   "name": "python3"
  },
  "language_info": {
   "codemirror_mode": {
    "name": "ipython",
    "version": 3
   },
   "file_extension": ".py",
   "mimetype": "text/x-python",
   "name": "python",
   "nbconvert_exporter": "python",
   "pygments_lexer": "ipython3",
   "version": "3.7.9"
  }
 },
 "nbformat": 4,
 "nbformat_minor": 5
}
